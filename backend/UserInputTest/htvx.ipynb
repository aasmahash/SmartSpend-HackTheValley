{
 "cells": [
  {
   "cell_type": "code",
   "execution_count": 1,
   "id": "86f89f0c",
   "metadata": {},
   "outputs": [
    {
     "name": "stdout",
     "output_type": "stream",
     "text": [
      "Requirement already satisfied: uvicorn in c:\\users\\abhim\\documents\\data science\\.venv\\lib\\site-packages (0.37.0)\n",
      "Requirement already satisfied: click>=7.0 in c:\\users\\abhim\\documents\\data science\\.venv\\lib\\site-packages (from uvicorn) (8.3.0)\n",
      "Requirement already satisfied: h11>=0.8 in c:\\users\\abhim\\documents\\data science\\.venv\\lib\\site-packages (from uvicorn) (0.16.0)\n",
      "Requirement already satisfied: colorama in c:\\users\\abhim\\documents\\data science\\.venv\\lib\\site-packages (from click>=7.0->uvicorn) (0.4.6)\n",
      "Note: you may need to restart the kernel to use updated packages.\n",
      "Requirement already satisfied: fastapi in c:\\users\\abhim\\documents\\data science\\.venv\\lib\\site-packages (0.118.0)\n",
      "Requirement already satisfied: starlette<0.49.0,>=0.40.0 in c:\\users\\abhim\\documents\\data science\\.venv\\lib\\site-packages (from fastapi) (0.48.0)\n",
      "Requirement already satisfied: pydantic!=1.8,!=1.8.1,!=2.0.0,!=2.0.1,!=2.1.0,<3.0.0,>=1.7.4 in c:\\users\\abhim\\documents\\data science\\.venv\\lib\\site-packages (from fastapi) (2.11.10)\n",
      "Requirement already satisfied: typing-extensions>=4.8.0 in c:\\users\\abhim\\documents\\data science\\.venv\\lib\\site-packages (from fastapi) (4.15.0)\n",
      "Requirement already satisfied: annotated-types>=0.6.0 in c:\\users\\abhim\\documents\\data science\\.venv\\lib\\site-packages (from pydantic!=1.8,!=1.8.1,!=2.0.0,!=2.0.1,!=2.1.0,<3.0.0,>=1.7.4->fastapi) (0.7.0)\n",
      "Requirement already satisfied: pydantic-core==2.33.2 in c:\\users\\abhim\\documents\\data science\\.venv\\lib\\site-packages (from pydantic!=1.8,!=1.8.1,!=2.0.0,!=2.0.1,!=2.1.0,<3.0.0,>=1.7.4->fastapi) (2.33.2)\n",
      "Requirement already satisfied: typing-inspection>=0.4.0 in c:\\users\\abhim\\documents\\data science\\.venv\\lib\\site-packages (from pydantic!=1.8,!=1.8.1,!=2.0.0,!=2.0.1,!=2.1.0,<3.0.0,>=1.7.4->fastapi) (0.4.2)\n",
      "Requirement already satisfied: anyio<5,>=3.6.2 in c:\\users\\abhim\\documents\\data science\\.venv\\lib\\site-packages (from starlette<0.49.0,>=0.40.0->fastapi) (4.11.0)\n",
      "Requirement already satisfied: idna>=2.8 in c:\\users\\abhim\\documents\\data science\\.venv\\lib\\site-packages (from anyio<5,>=3.6.2->starlette<0.49.0,>=0.40.0->fastapi) (3.10)\n",
      "Requirement already satisfied: sniffio>=1.1 in c:\\users\\abhim\\documents\\data science\\.venv\\lib\\site-packages (from anyio<5,>=3.6.2->starlette<0.49.0,>=0.40.0->fastapi) (1.3.1)\n",
      "Note: you may need to restart the kernel to use updated packages.\n",
      "Requirement already satisfied: camelot-py[cv] in c:\\users\\abhim\\documents\\data science\\.venv\\lib\\site-packages (1.0.9)\n",
      "Requirement already satisfied: click>=8.0.1 in c:\\users\\abhim\\documents\\data science\\.venv\\lib\\site-packages (from camelot-py[cv]) (8.3.0)\n",
      "Requirement already satisfied: chardet>=5.1.0 in c:\\users\\abhim\\documents\\data science\\.venv\\lib\\site-packages (from camelot-py[cv]) (5.2.0)\n",
      "Requirement already satisfied: numpy>=1.26.1 in c:\\users\\abhim\\documents\\data science\\.venv\\lib\\site-packages (from camelot-py[cv]) (2.2.6)\n",
      "Requirement already satisfied: openpyxl>=3.1.0 in c:\\users\\abhim\\documents\\data science\\.venv\\lib\\site-packages (from camelot-py[cv]) (3.1.5)\n",
      "Requirement already satisfied: pdfminer-six>=20240706 in c:\\users\\abhim\\documents\\data science\\.venv\\lib\\site-packages (from camelot-py[cv]) (20250506)\n",
      "Requirement already satisfied: pypdf<6.0,>=4.0 in c:\\users\\abhim\\documents\\data science\\.venv\\lib\\site-packages (from camelot-py[cv]) (5.9.0)\n",
      "Requirement already satisfied: pandas>=2.2.2 in c:\\users\\abhim\\documents\\data science\\.venv\\lib\\site-packages (from camelot-py[cv]) (2.3.2)\n",
      "Requirement already satisfied: tabulate>=0.9.0 in c:\\users\\abhim\\documents\\data science\\.venv\\lib\\site-packages (from camelot-py[cv]) (0.9.0)\n",
      "Requirement already satisfied: opencv-python-headless>=4.7.0.68 in c:\\users\\abhim\\documents\\data science\\.venv\\lib\\site-packages (from camelot-py[cv]) (4.12.0.88)\n",
      "Requirement already satisfied: pypdfium2>=4 in c:\\users\\abhim\\documents\\data science\\.venv\\lib\\site-packages (from camelot-py[cv]) (4.30.0)\n",
      "Requirement already satisfied: pillow>=10.4.0 in c:\\users\\abhim\\documents\\data science\\.venv\\lib\\site-packages (from camelot-py[cv]) (11.3.0)\n",
      "Requirement already satisfied: colorama in c:\\users\\abhim\\documents\\data science\\.venv\\lib\\site-packages (from click>=8.0.1->camelot-py[cv]) (0.4.6)\n",
      "Requirement already satisfied: et-xmlfile in c:\\users\\abhim\\documents\\data science\\.venv\\lib\\site-packages (from openpyxl>=3.1.0->camelot-py[cv]) (2.0.0)\n",
      "Requirement already satisfied: python-dateutil>=2.8.2 in c:\\users\\abhim\\documents\\data science\\.venv\\lib\\site-packages (from pandas>=2.2.2->camelot-py[cv]) (2.9.0.post0)\n",
      "Requirement already satisfied: pytz>=2020.1 in c:\\users\\abhim\\documents\\data science\\.venv\\lib\\site-packages (from pandas>=2.2.2->camelot-py[cv]) (2025.2)\n",
      "Requirement already satisfied: tzdata>=2022.7 in c:\\users\\abhim\\documents\\data science\\.venv\\lib\\site-packages (from pandas>=2.2.2->camelot-py[cv]) (2025.2)\n",
      "Requirement already satisfied: charset-normalizer>=2.0.0 in c:\\users\\abhim\\documents\\data science\\.venv\\lib\\site-packages (from pdfminer-six>=20240706->camelot-py[cv]) (3.4.3)\n",
      "Requirement already satisfied: cryptography>=36.0.0 in c:\\users\\abhim\\documents\\data science\\.venv\\lib\\site-packages (from pdfminer-six>=20240706->camelot-py[cv]) (46.0.2)\n",
      "Requirement already satisfied: cffi>=2.0.0 in c:\\users\\abhim\\documents\\data science\\.venv\\lib\\site-packages (from cryptography>=36.0.0->pdfminer-six>=20240706->camelot-py[cv]) (2.0.0)\n",
      "Requirement already satisfied: pycparser in c:\\users\\abhim\\documents\\data science\\.venv\\lib\\site-packages (from cffi>=2.0.0->cryptography>=36.0.0->pdfminer-six>=20240706->camelot-py[cv]) (2.23)\n",
      "Requirement already satisfied: six>=1.5 in c:\\users\\abhim\\documents\\data science\\.venv\\lib\\site-packages (from python-dateutil>=2.8.2->pandas>=2.2.2->camelot-py[cv]) (1.17.0)\n",
      "Note: you may need to restart the kernel to use updated packages.\n"
     ]
    },
    {
     "name": "stderr",
     "output_type": "stream",
     "text": [
      "WARNING: camelot-py 1.0.9 does not provide the extra 'cv'\n"
     ]
    }
   ],
   "source": [
    "%pip install uvicorn\n",
    "%pip install fastapi\n",
    "%pip install \"camelot-py[cv]\""
   ]
  },
  {
   "cell_type": "code",
   "execution_count": 5,
   "id": "fa654188",
   "metadata": {},
   "outputs": [],
   "source": [
    "import fastapi as fast\n",
    "import pandas as pd\n",
    "import uvicorn \n",
    "import camelot "
   ]
  },
  {
   "cell_type": "code",
   "execution_count": 6,
   "id": "fac202c5",
   "metadata": {},
   "outputs": [],
   "source": [
    "lattice_tables =camelot.read_pdf('cc_st.pdf',pages='all',flavor='lattice',suppress_stdout=False)\n",
    "for table in lattice_tables:\n",
    "    print('Lattice Table')\n",
    "    print(table.df)"
   ]
  },
  {
   "cell_type": "code",
   "execution_count": null,
   "id": "93dc2a9e",
   "metadata": {},
   "outputs": [],
   "source": []
  }
 ],
 "metadata": {
  "kernelspec": {
   "display_name": ".venv",
   "language": "python",
   "name": "python3"
  },
  "language_info": {
   "codemirror_mode": {
    "name": "ipython",
    "version": 3
   },
   "file_extension": ".py",
   "mimetype": "text/x-python",
   "name": "python",
   "nbconvert_exporter": "python",
   "pygments_lexer": "ipython3",
   "version": "3.13.3"
  }
 },
 "nbformat": 4,
 "nbformat_minor": 5
}
